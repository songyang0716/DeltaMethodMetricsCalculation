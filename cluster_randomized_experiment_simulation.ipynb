{
 "cells": [
  {
   "cell_type": "code",
   "execution_count": 1,
   "metadata": {
    "ExecuteTime": {
     "end_time": "2019-10-08T00:18:37.221131Z",
     "start_time": "2019-10-08T00:18:35.576978Z"
    }
   },
   "outputs": [],
   "source": [
    "import numpy as np\n",
    "import seaborn as sns"
   ]
  },
  {
   "cell_type": "code",
   "execution_count": 66,
   "metadata": {
    "ExecuteTime": {
     "end_time": "2019-10-08T05:12:49.561317Z",
     "start_time": "2019-10-08T05:12:49.551683Z"
    }
   },
   "outputs": [],
   "source": [
    "from scipy import stats"
   ]
  },
  {
   "cell_type": "code",
   "execution_count": 124,
   "metadata": {
    "ExecuteTime": {
     "end_time": "2019-10-08T06:03:29.296222Z",
     "start_time": "2019-10-08T06:03:29.292560Z"
    }
   },
   "outputs": [],
   "source": [
    "# Number of clusters in each cohorts\n",
    "N = 5000\n",
    "\n",
    "# The average number of samples in each cluster follows a poisson distribution with mean lambda\n",
    "mean_samples = 5\n",
    "\n",
    "# Number of simulations\n",
    "n_iterations = 10000\n",
    "\n",
    "# Conversion Rate - Follow a Beta Distribution\n",
    "alpha = 1\n",
    "beta = 3"
   ]
  },
  {
   "cell_type": "code",
   "execution_count": 125,
   "metadata": {
    "ExecuteTime": {
     "end_time": "2019-10-08T06:03:30.331902Z",
     "start_time": "2019-10-08T06:03:30.329189Z"
    }
   },
   "outputs": [],
   "source": [
    "np.random.seed(888)"
   ]
  },
  {
   "cell_type": "markdown",
   "metadata": {},
   "source": [
    "### Type One Error  "
   ]
  },
  {
   "cell_type": "markdown",
   "metadata": {},
   "source": [
    "#### Simulation under cluster level, randomization unit is same as the analysis unit  (Correct way !)"
   ]
  },
  {
   "cell_type": "code",
   "execution_count": 126,
   "metadata": {
    "ExecuteTime": {
     "end_time": "2019-10-08T06:03:54.954621Z",
     "start_time": "2019-10-08T06:03:31.168559Z"
    }
   },
   "outputs": [
    {
     "name": "stdout",
     "output_type": "stream",
     "text": [
      "Type One Error : 0.051\n"
     ]
    }
   ],
   "source": [
    "# Calculate the metric in cluster level\n",
    "# 5% significance level\n",
    "false_positive = 0\n",
    "for i in range(n_iterations):\n",
    "    # conversion rate p in each cluster are from the same beta distribution in control and test group\n",
    "    control_cluster_p = np.random.beta(alpha, beta, N)\n",
    "    treatment_cluster_p = np.random.beta(alpha, beta, N)\n",
    "\n",
    "    # number of samples in each cluster, plus one to make sure the samples are greater than 1\n",
    "    control_samples_per_cluster = np.random.poisson(mean_samples, N) + 1\n",
    "    treatment_samples_per_cluster = np.random.poisson(mean_samples, N) + 1\n",
    "\n",
    "    # number of converted samples in each cluster\n",
    "    control_converted = np.random.binomial(\n",
    "        n=control_samples_per_cluster, p=control_cluster_p)\n",
    "\n",
    "    treatment_converted = np.random.binomial(\n",
    "        n=treatment_samples_per_cluster, p=treatment_cluster_p)\n",
    "\n",
    "    # conversion in each cluster\n",
    "    control_cluster_conversion = control_converted / control_samples_per_cluster\n",
    "    treatment_cluster_conversion = treatment_converted / treatment_samples_per_cluster\n",
    "\n",
    "    # perform t-test\n",
    "    control_mean, var_c = np.mean(control_cluster_conversion),  np.var(\n",
    "        control_cluster_conversion)\n",
    "    treatment_mean, var_t = np.mean(treatment_cluster_conversion), np.var(\n",
    "        treatment_cluster_conversion)\n",
    "    t_score = (treatment_mean - control_mean) / np.sqrt(var_c / N + var_t / N)\n",
    "\n",
    "    if (t_score >= 1.96) or (t_score <= -1.96):\n",
    "        false_positive += 1\n",
    "\n",
    "print(\"Type One Error : {}\".format(false_positive / n_iterations))"
   ]
  },
  {
   "cell_type": "code",
   "execution_count": null,
   "metadata": {},
   "outputs": [],
   "source": []
  },
  {
   "cell_type": "markdown",
   "metadata": {},
   "source": [
    "#### Simulation under samples level, aalysis unit is more granular than the randomization unit (Wrong way !)"
   ]
  },
  {
   "cell_type": "code",
   "execution_count": 127,
   "metadata": {
    "ExecuteTime": {
     "end_time": "2019-10-08T06:08:12.405749Z",
     "start_time": "2019-10-08T06:07:22.832221Z"
    }
   },
   "outputs": [
    {
     "name": "stdout",
     "output_type": "stream",
     "text": [
      "Type One Error : 0.1852\n"
     ]
    }
   ],
   "source": [
    "# Calculate the metric in sample level\n",
    "# 5% significance level\n",
    "false_positive = 0\n",
    "for i in range(n_iterations):\n",
    "    # conversion rate p in each cluster are from the same beta distribution in control and test group\n",
    "    control_cluster_p = np.random.beta(alpha, beta, N)\n",
    "    treatment_cluster_p = np.random.beta(alpha, beta, N)\n",
    "\n",
    "    # number of samples in each cluster, plus one to make sure the samples are greater than 1\n",
    "    control_samples_per_cluster = np.random.poisson(mean_samples, N) + 1\n",
    "    treatment_samples_per_cluster = np.random.poisson(mean_samples, N) + 1\n",
    "\n",
    "    # number of converted samples in each cluster\n",
    "    control_converted = np.random.binomial(\n",
    "        n=control_samples_per_cluster, p=control_cluster_p)\n",
    "\n",
    "    treatment_converted = np.random.binomial(\n",
    "        n=treatment_samples_per_cluster, p=treatment_cluster_p)\n",
    "\n",
    "    # conversion in each cohort\n",
    "    control_cluster_conversion = sum(control_converted) / sum(control_samples_per_cluster)\n",
    "    treatment_cluster_conversion = sum(treatment_converted) / sum(treatment_samples_per_cluster)\n",
    "\n",
    "    # perform two proportion z-test\n",
    "    control_mean, var_c = control_cluster_conversion,  control_cluster_conversion * (1 - control_cluster_conversion)\n",
    "    treatment_mean, var_t = treatment_cluster_conversion, treatment_cluster_conversion * (1 - treatment_cluster_conversion)\n",
    "    z_score = (treatment_mean - control_mean) / np.sqrt(var_c / sum(control_samples_per_cluster) + var_t / sum(treatment_samples_per_cluster))\n",
    "\n",
    "    if (z_score >= 1.96) or (z_score <= -1.96):\n",
    "        false_positive += 1\n",
    "\n",
    "print(\"Type One Error : {}\".format(false_positive / n_iterations))"
   ]
  },
  {
   "cell_type": "code",
   "execution_count": 128,
   "metadata": {
    "ExecuteTime": {
     "end_time": "2019-10-08T06:15:57.566523Z",
     "start_time": "2019-10-08T06:15:57.563879Z"
    }
   },
   "outputs": [],
   "source": [
    "### Woooo !  False positive is way higher than what we expected ! The reason is \n",
    "### In the above simulation, We draw samples from different clusters \n",
    "### If two samples are coming from the same clusters, they are no longer independent to each other !!!\n",
    "### when x, y are from the same cluster, P(x|y) != p(x)"
   ]
  },
  {
   "cell_type": "code",
   "execution_count": null,
   "metadata": {},
   "outputs": [],
   "source": []
  },
  {
   "cell_type": "code",
   "execution_count": null,
   "metadata": {},
   "outputs": [],
   "source": []
  },
  {
   "cell_type": "markdown",
   "metadata": {},
   "source": [
    "#### Use delta method to correct for the variance estimation (??)"
   ]
  },
  {
   "cell_type": "code",
   "execution_count": null,
   "metadata": {},
   "outputs": [],
   "source": []
  }
 ],
 "metadata": {
  "kernelspec": {
   "display_name": "Python 3",
   "language": "python",
   "name": "python3"
  },
  "language_info": {
   "codemirror_mode": {
    "name": "ipython",
    "version": 3
   },
   "file_extension": ".py",
   "mimetype": "text/x-python",
   "name": "python",
   "nbconvert_exporter": "python",
   "pygments_lexer": "ipython3",
   "version": "3.6.6"
  },
  "toc": {
   "base_numbering": 1,
   "nav_menu": {},
   "number_sections": true,
   "sideBar": true,
   "skip_h1_title": false,
   "title_cell": "Table of Contents",
   "title_sidebar": "Contents",
   "toc_cell": false,
   "toc_position": {},
   "toc_section_display": true,
   "toc_window_display": false
  },
  "varInspector": {
   "cols": {
    "lenName": 16,
    "lenType": 16,
    "lenVar": 40
   },
   "kernels_config": {
    "python": {
     "delete_cmd_postfix": "",
     "delete_cmd_prefix": "del ",
     "library": "var_list.py",
     "varRefreshCmd": "print(var_dic_list())"
    },
    "r": {
     "delete_cmd_postfix": ") ",
     "delete_cmd_prefix": "rm(",
     "library": "var_list.r",
     "varRefreshCmd": "cat(var_dic_list()) "
    }
   },
   "types_to_exclude": [
    "module",
    "function",
    "builtin_function_or_method",
    "instance",
    "_Feature"
   ],
   "window_display": false
  }
 },
 "nbformat": 4,
 "nbformat_minor": 2
}
